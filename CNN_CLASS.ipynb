{
  "nbformat": 4,
  "nbformat_minor": 0,
  "metadata": {
    "colab": {
      "provenance": [],
      "authorship_tag": "ABX9TyP3vXen88STnsmjgdl1s1Bb",
      "include_colab_link": true
    },
    "kernelspec": {
      "name": "python3",
      "display_name": "Python 3"
    },
    "language_info": {
      "name": "python"
    }
  },
  "cells": [
    {
      "cell_type": "markdown",
      "metadata": {
        "id": "view-in-github",
        "colab_type": "text"
      },
      "source": [
        "<a href=\"https://colab.research.google.com/github/GRACENGARI/DEEP-LEARNING-PROJECT/blob/main/CNN_CLASS.ipynb\" target=\"_parent\"><img src=\"https://colab.research.google.com/assets/colab-badge.svg\" alt=\"Open In Colab\"/></a>"
      ]
    },
    {
      "cell_type": "code",
      "execution_count": 13,
      "metadata": {
        "id": "mhSVRnz33m4j"
      },
      "outputs": [],
      "source": [
        "import numpy as np\n",
        "import matplotlib.pyplot as plt\n",
        "import keras\n",
        "import tensorflow as tf\n",
        "from tensorflow import keras\n",
        "from keras.models import Sequential\n",
        "from tensorflow.keras.layers import Input, Conv2D, Dense, Flatten\n",
        "from tensorflow.keras.layers import GlobalMaxPooling2D, MaxPooling2D\n",
        "from tensorflow.keras.layers import BatchNormalization\n",
        "from tensorflow.keras.models import Model\n",
        "from tensorflow.keras import regularizers, optimizers\n",
        "from tensorflow.keras.utils import to_categorical\n",
        "from sklearn.metrics import accuracy_score\n",
        "\n",
        "import warnings\n",
        "warnings.filterwarnings('ignore')\n",
        ""
      ]
    },
    {
      "cell_type": "code",
      "source": [
        "from tensorflow.keras.datasets import cifar10"
      ],
      "metadata": {
        "id": "3pyy90B8-_vx"
      },
      "execution_count": 3,
      "outputs": []
    },
    {
      "cell_type": "code",
      "source": [
        "(X_train,Y_train),(X_test,Y_test)=cifar10.load_data()"
      ],
      "metadata": {
        "id": "D4uqJXsf_O27"
      },
      "execution_count": 5,
      "outputs": []
    },
    {
      "cell_type": "markdown",
      "source": [
        "DISPLAY THE IMAGE AND LABELS"
      ],
      "metadata": {
        "id": "rnYn0Sw8EG86"
      }
    },
    {
      "cell_type": "code",
      "source": [
        "from operator import index\n",
        "class_labels = [\"airplane\",\"automobile\",\"bird\",\"cat\",\"dog\",\"frog\",\"horse\",\"ship\",\"truck\"]\n",
        "index =6\n",
        "plt.figure(figsize=(3,3))\n",
        "plt.imshow(X_train[index])\n",
        "plt.title(class_labels[Y_train[index][0]])\n",
        "plt.show()"
      ],
      "metadata": {
        "colab": {
          "base_uri": "https://localhost:8080/",
          "height": 314
        },
        "id": "w2SlKRZQAKAK",
        "outputId": "0ebf6a82-fae9-4e00-8733-0e1eb061cd44"
      },
      "execution_count": 11,
      "outputs": [
        {
          "output_type": "display_data",
          "data": {
            "text/plain": [
              "<Figure size 300x300 with 1 Axes>"
            ],
            "image/png": "[encoded data removed]"
          },
          "metadata": {}
        }
      ]
    },
    {
      "cell_type": "markdown",
      "source": [
        "IMAGE PREPROCESSING\n",
        "normalizing"
      ],
      "metadata": {
        "id": "D_8TQ0-jEWjK"
      }
    },
    {
      "cell_type": "code",
      "source": [
        "X_train = X_train/255\n",
        "X_test = X_test/255"
      ],
      "metadata": {
        "id": "ICCqUFRvFpBH"
      },
      "execution_count": 14,
      "outputs": []
    },
    {
      "cell_type": "markdown",
      "source": [
        "0 Airplane\n",
        "1:Automobile\n",
        "2:BIRD\n",
        "AIRPLANE[1,00000]\n",
        "AUTOMOBILE[0,IIII]\n",
        "BIRD[0,0,1,000]\n",
        "ONEHOTENCODING"
      ],
      "metadata": {
        "id": "EjZ9R39xG7-f"
      }
    },
    {
      "cell_type": "code",
      "source": [
        "Y_train_en = to_categorical(Y_train,10)\n",
        "Y_test_en = to_categorical(Y_test,10)\n"
      ],
      "metadata": {
        "id": "ySOGwAQpHl6C"
      },
      "execution_count": 15,
      "outputs": []
    },
    {
      "cell_type": "code",
      "source": [
        "Y_test_en"
      ],
      "metadata": {
        "colab": {
          "base_uri": "https://localhost:8080/"
        },
        "id": "3fpML6mNIEjG",
        "outputId": "8fabdb4d-ec26-495e-82a2-19e8bcbe8b81"
      },
      "execution_count": 16,
      "outputs": [
        {
          "output_type": "execute_result",
          "data": {
            "text/plain": [
              "array([[0., 0., 0., ..., 0., 0., 0.],\n",
              "       [0., 0., 0., ..., 0., 1., 0.],\n",
              "       [0., 0., 0., ..., 0., 1., 0.],\n",
              "       ...,\n",
              "       [0., 0., 0., ..., 0., 0., 0.],\n",
              "       [0., 1., 0., ..., 0., 0., 0.],\n",
              "       [0., 0., 0., ..., 1., 0., 0.]], dtype=float32)"
            ]
          },
          "metadata": {},
          "execution_count": 16
        }
      ]
    },
    {
      "cell_type": "markdown",
      "source": [
        "CNN implementation"
      ],
      "metadata": {
        "id": "llGKO0w7Iynb"
      }
    },
    {
      "cell_type": "code",
      "source": [
        "model = Sequential()\n",
        "model.add(Conv2D(32,(4,4),input_shape=(32,32,3),activation='relu'))\n",
        "model.add(MaxPooling2D(pool_size=(2,2)))\n",
        "\n",
        "model.add(Conv2D(32,(4,4),input_shape=(32,32,3),activation='relu'))\n",
        "model.add(MaxPooling2D(pool_size=(2,2)))\n",
        "#flatten\n",
        "model.add(Flatten())\n",
        "model.add(Dense(128,activation=\"relu\"))\n",
        "#output layer\n",
        "model.add(Dense(10,activation=\"softmax\"))\n",
        "#compile\n",
        "model.compile(loss =\"categorical_crossentropy\",optimizer=\"adam\",metrics=[\"accuracy\"])"
      ],
      "metadata": {
        "id": "RKjUaY-EIyIY"
      },
      "execution_count": 17,
      "outputs": []
    },
    {
      "cell_type": "code",
      "source": [
        "model.fit(X_train,Y_train_en,epochs=20,verbose=1,validation_data=(X_test,Y_test_en))"
      ],
      "metadata": {
        "colab": {
          "base_uri": "https://localhost:8080/"
        },
        "id": "boLwQI21N3Or",
        "outputId": "2a50b305-3aa4-42ee-cf46-32a2577eeac0"
      },
      "execution_count": 18,
      "outputs": [
        {
          "output_type": "stream",
          "name": "stdout",
          "text": [
            "Epoch 1/20\n",
            "1563/1563 [==============================] - 60s 38ms/step - loss: 1.5027 - accuracy: 0.4592 - val_loss: 1.2965 - val_accuracy: 0.5351\n",
            "Epoch 2/20\n",
            "1563/1563 [==============================] - 58s 37ms/step - loss: 1.1904 - accuracy: 0.5800 - val_loss: 1.1390 - val_accuracy: 0.5987\n",
            "Epoch 3/20\n",
            "1563/1563 [==============================] - 58s 37ms/step - loss: 1.0703 - accuracy: 0.6257 - val_loss: 1.0853 - val_accuracy: 0.6207\n",
            "Epoch 4/20\n",
            "1563/1563 [==============================] - 57s 37ms/step - loss: 0.9797 - accuracy: 0.6570 - val_loss: 1.0393 - val_accuracy: 0.6323\n",
            "Epoch 5/20\n",
            "1563/1563 [==============================] - 60s 38ms/step - loss: 0.9143 - accuracy: 0.6790 - val_loss: 0.9600 - val_accuracy: 0.6662\n",
            "Epoch 6/20\n",
            "1563/1563 [==============================] - 58s 37ms/step - loss: 0.8544 - accuracy: 0.6997 - val_loss: 0.9721 - val_accuracy: 0.6579\n",
            "Epoch 7/20\n",
            "1563/1563 [==============================] - 55s 35ms/step - loss: 0.7984 - accuracy: 0.7209 - val_loss: 0.9452 - val_accuracy: 0.6747\n",
            "Epoch 8/20\n",
            "1563/1563 [==============================] - 55s 35ms/step - loss: 0.7491 - accuracy: 0.7384 - val_loss: 0.9705 - val_accuracy: 0.6681\n",
            "Epoch 9/20\n",
            "1563/1563 [==============================] - 58s 37ms/step - loss: 0.7088 - accuracy: 0.7512 - val_loss: 0.9511 - val_accuracy: 0.6846\n",
            "Epoch 10/20\n",
            "1563/1563 [==============================] - 57s 37ms/step - loss: 0.6687 - accuracy: 0.7651 - val_loss: 0.9503 - val_accuracy: 0.6910\n",
            "Epoch 11/20\n",
            "1563/1563 [==============================] - 55s 35ms/step - loss: 0.6311 - accuracy: 0.7773 - val_loss: 0.9914 - val_accuracy: 0.6786\n",
            "Epoch 12/20\n",
            "1563/1563 [==============================] - 58s 37ms/step - loss: 0.5965 - accuracy: 0.7885 - val_loss: 1.0136 - val_accuracy: 0.6761\n",
            "Epoch 13/20\n",
            "1563/1563 [==============================] - 59s 38ms/step - loss: 0.5623 - accuracy: 0.8013 - val_loss: 1.0817 - val_accuracy: 0.6708\n",
            "Epoch 14/20\n",
            "1563/1563 [==============================] - 58s 37ms/step - loss: 0.5296 - accuracy: 0.8125 - val_loss: 1.0456 - val_accuracy: 0.6755\n",
            "Epoch 15/20\n",
            "1563/1563 [==============================] - 55s 35ms/step - loss: 0.5008 - accuracy: 0.8223 - val_loss: 1.0607 - val_accuracy: 0.6785\n",
            "Epoch 16/20\n",
            "1563/1563 [==============================] - 57s 36ms/step - loss: 0.4731 - accuracy: 0.8307 - val_loss: 1.1513 - val_accuracy: 0.6741\n",
            "Epoch 17/20\n",
            "1563/1563 [==============================] - 58s 37ms/step - loss: 0.4504 - accuracy: 0.8391 - val_loss: 1.2162 - val_accuracy: 0.6712\n",
            "Epoch 18/20\n",
            "1563/1563 [==============================] - 57s 37ms/step - loss: 0.4205 - accuracy: 0.8504 - val_loss: 1.2363 - val_accuracy: 0.6667\n",
            "Epoch 19/20\n",
            "1563/1563 [==============================] - 57s 36ms/step - loss: 0.3954 - accuracy: 0.8588 - val_loss: 1.2538 - val_accuracy: 0.6764\n",
            "Epoch 20/20\n",
            "1563/1563 [==============================] - 56s 36ms/step - loss: 0.3766 - accuracy: 0.8660 - val_loss: 1.3032 - val_accuracy: 0.6744\n"
          ]
        },
        {
          "output_type": "execute_result",
          "data": {
            "text/plain": [
              "<keras.src.callbacks.History at 0x7f365c06b2b0>"
            ]
          },
          "metadata": {},
          "execution_count": 18
        }
      ]
    },
    {
      "cell_type": "code",
      "source": [
        "model.summary()"
      ],
      "metadata": {
        "colab": {
          "base_uri": "https://localhost:8080/"
        },
        "id": "VLEl2SlVTx2y",
        "outputId": "3a18320c-5b2d-47a8-ba13-45b564db02d4"
      },
      "execution_count": 20,
      "outputs": [
        {
          "output_type": "stream",
          "name": "stdout",
          "text": [
            "Model: \"sequential\"\n",
            "_________________________________________________________________\n",
            " Layer (type)                Output Shape              Param #   \n",
            "=================================================================\n",
            " conv2d (Conv2D)             (None, 29, 29, 32)        1568      \n",
            "                                                                 \n",
            " max_pooling2d (MaxPooling2  (None, 14, 14, 32)        0         \n",
            " D)                                                              \n",
            "                                                                 \n",
            " conv2d_1 (Conv2D)           (None, 11, 11, 32)        16416     \n",
            "                                                                 \n",
            " max_pooling2d_1 (MaxPoolin  (None, 5, 5, 32)          0         \n",
            " g2D)                                                            \n",
            "                                                                 \n",
            " flatten (Flatten)           (None, 800)               0         \n",
            "                                                                 \n",
            " dense (Dense)               (None, 128)               102528    \n",
            "                                                                 \n",
            " dense_1 (Dense)             (None, 10)                1290      \n",
            "                                                                 \n",
            "=================================================================\n",
            "Total params: 121802 (475.79 KB)\n",
            "Trainable params: 121802 (475.79 KB)\n",
            "Non-trainable params: 0 (0.00 Byte)\n",
            "_________________________________________________________________\n"
          ]
        }
      ]
    }
  ]
}